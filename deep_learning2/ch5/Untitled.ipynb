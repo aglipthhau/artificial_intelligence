{
 "cells": [
  {
   "cell_type": "code",
   "execution_count": 1,
   "metadata": {},
   "outputs": [
    {
     "name": "stdout",
     "output_type": "stream",
     "text": [
      "[2 4 6]\n",
      "[20 40 20]\n"
     ]
    }
   ],
   "source": [
    "import tensorflow as tf\n",
    "# 플레이스홀더 정의하기 --- (※1)\n",
    "a = tf.placeholder(tf.int32, [3]) # 정수 자료형 3개를 가진 배열\n",
    "# 배열을 모든 값을 2배하는 연산 정의하기 --- (※2)\n",
    "b = tf.constant(2)\n",
    "x2_op = a * b\n",
    "# 세션 시작하기 --- (※3)\n",
    "sess = tf.Session()\n",
    "# 플레이스홀더에 값을 넣고 실행하기 --- (※4)\n",
    "r1 = sess.run(x2_op, feed_dict={ a:[1, 2, 3] })\n",
    "print(r1)\n",
    "r2 = sess.run(x2_op, feed_dict={ a:[10, 20, 10] })\n",
    "print(r2)"
   ]
  },
  {
   "cell_type": "code",
   "execution_count": null,
   "metadata": {},
   "outputs": [],
   "source": []
  }
 ],
 "metadata": {
  "kernelspec": {
   "display_name": "Python 3",
   "language": "python",
   "name": "python3"
  },
  "language_info": {
   "codemirror_mode": {
    "name": "ipython",
    "version": 3
   },
   "file_extension": ".py",
   "mimetype": "text/x-python",
   "name": "python",
   "nbconvert_exporter": "python",
   "pygments_lexer": "ipython3",
   "version": "3.6.8"
  }
 },
 "nbformat": 4,
 "nbformat_minor": 2
}
