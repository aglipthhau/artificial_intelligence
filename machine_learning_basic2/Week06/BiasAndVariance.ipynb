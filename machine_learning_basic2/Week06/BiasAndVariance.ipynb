{
 "cells": [
  {
   "cell_type": "code",
   "execution_count": 1,
   "metadata": {
    "collapsed": true
   },
   "outputs": [],
   "source": [
    "import numpy as np\n",
    "import matplotlib.pyplot as plt\n",
    "from numpy.linalg import inv\n",
    "\n",
    "%matplotlib inline  "
   ]
  },
  {
   "cell_type": "code",
   "execution_count": 2,
   "metadata": {
    "collapsed": false
   },
   "outputs": [
    {
     "data": {
      "image/png": "[encoded data removed]",
      "text/plain": [
       "<matplotlib.figure.Figure at 0x69e5668>"
      ]
     },
     "metadata": {},
     "output_type": "display_data"
    }
   ],
   "source": [
    "x = np.arange(0,1,0.01)\n",
    "f = np.sin(2*np.pi*x)\n",
    "g1 = 0 * x;\n",
    "\n",
    "w = np.polyfit(x,f,1);\n",
    "g2 = np.polyval(w,x);\n",
    "\n",
    "plt.figure(1, figsize=(7,5));\n",
    "plt.plot(x,f, color=\"blue\");\n",
    "plt.plot(x,g1, color=\"red\");\n",
    "plt.plot(x,g2, color=\"green\");\n",
    "\n",
    "e1 = np.mean(np.dot((g1-f),(g1-f)));\n",
    "e2 = np.mean(np.dot((g2-f),(g2-f)));\n",
    "\n",
    "# number of observations\n",
    "D = 10;\n",
    "trainingCaseG1 = np.zeros((D, 100));\n",
    "trainingCaseG2 = np.zeros((D, 100));\n",
    "trainingCaseG3 = np.zeros((D, 100));\n",
    "\n",
    "for i in range(D):\n",
    "    trainingCaseX = np.random.uniform(0,1,2);\n",
    "    trainingCaseF = np.sin(2*np.pi*trainingCaseX);\n",
    "    plt.plot(trainingCaseX,trainingCaseF, 'mo'); \n",
    "    \n",
    "    trainingCaseX = np.random.uniform(0,1,2);\n",
    "    trainingCaseF = np.sin(2*np.pi*trainingCaseX);\n",
    "    plt.plot(trainingCaseX,trainingCaseF, 'mo'); \n",
    "\n",
    "    w = np.polyfit(trainingCaseX, trainingCaseF,1);\n",
    "    tempTrainingCaseX = np.zeros((2,2));\n",
    "    tempTrainingCaseX[0,:] = trainingCaseX;\n",
    "    tempTrainingCaseX[1,:] = [1,1];\n",
    "    randa = 1;\n",
    "\n",
    "    w = np.dot(np.transpose(np.dot(inv(np.dot(np.transpose(tempTrainingCaseX),tempTrainingCaseX) + randa + np.eye(2)), np.transpose(tempTrainingCaseX))), np.transpose(trainingCaseF));\n",
    "    tempX = np.zeros((2,np.size(x)));\n",
    "    tempX[0,:] = x;\n",
    "\n",
    "    for j in range(np.size(x)):\n",
    "        tempX[1,j] = 1;\n",
    "    trainingCaseG3[i,:] = np.transpose(np.dot(np.transpose(w),tempX));\n",
    "\n",
    "    # First Degree Line\n",
    "    w = np.polyfit(trainingCaseX, trainingCaseF, 1);\n",
    "    trainingCaseG2[i,:] = np.polyval(w,x);\n",
    "\n",
    "    # Zero Degree Line\n",
    "    w = np.polyfit(trainingCaseX, trainingCaseF, 0);\n",
    "    trainingCaseG1[i,:] = np.polyval(w,x);\n",
    "    \n",
    "meanG1 = np.zeros((np.size(x),1));\n",
    "meanG2 = np.zeros((np.size(x),1));\n",
    "meanG3 = np.zeros((np.size(x),1));\n",
    "\n",
    "stdG1 = np.zeros((np.size(x),1));\n",
    "stdG2 = np.zeros((np.size(x),1));\n",
    "stdG3 = np.zeros((np.size(x),1));\n",
    "\n",
    "biasXG1 = np.zeros((np.size(x),1));\n",
    "biasXG2 = np.zeros((np.size(x),1));\n",
    "biasXG3 = np.zeros((np.size(x),1));\n",
    "    \n",
    "for j in range(np.size(x)):\n",
    "    meanG1[j] = np.mean(trainingCaseG1[:,j]);\n",
    "    stdG1[j] = np.std(trainingCaseG1[:,j]);\n",
    "    biasXG1[j] = (meanG1[j] - f[j])*(meanG1[j] - f[j]);\n",
    "    \n",
    "    meanG2[j] = np.mean(trainingCaseG2[:,j]);\n",
    "    stdG2[j] = np.std(trainingCaseG2[:,j]);\n",
    "    biasXG2[j] = (meanG2[j] - f[j])*(meanG2[j] - f[j]);\n",
    "    \n",
    "    meanG3[j] = np.mean(trainingCaseG3[:,j]);\n",
    "    stdG3[j] = np.std(trainingCaseG3[:,j]);\n",
    "    biasXG3[j] = (meanG3[j] - f[j])*(meanG3[j] - f[j]);\n",
    "    \n",
    "plt.errorbar(x,meanG3, yerr = stdG3);\n",
    "\n",
    "deviationG1 = np.zeros((np.size(x), D));\n",
    "deviationG2 = np.zeros((np.size(x), D));\n",
    "deviationG3 = np.zeros((np.size(x), D));\n",
    "\n",
    "for i in range(np.size(x)):\n",
    "    for j in range(D):\n",
    "        deviationG1[i,j] = (trainingCaseG1[j,i] - meanG1[i]) * (trainingCaseG1[j,i] - meanG1[i]);\n",
    "        deviationG2[i,j] = (trainingCaseG2[j,i] - meanG2[i]) * (trainingCaseG2[j,i] - meanG2[i]);\n",
    "        deviationG3[i,j] = (trainingCaseG3[j,i] - meanG3[i]) * (trainingCaseG3[j,i] - meanG3[i]);\n",
    "        \n",
    "biasG1 = 0; biasG2 = 0; biasG3 = 0;\n",
    "varG1 = 0; varG2 = 0; varG3 = 0;\n",
    "        \n",
    "biasG1 = np.mean(biasG1);\n",
    "biasG2 = np.mean(biasG2);\n",
    "biasG2 = np.mean(biasG3);\n",
    "\n",
    "varG1 = np.mean(np.mean(deviationG1));\n",
    "varG2 = np.mean(np.mean(deviationG2));\n",
    "varG3 = np.mean(np.mean(deviationG3));\n",
    "\n",
    "plt.show();"
   ]
  }
 ],
 "metadata": {
  "kernelspec": {
   "display_name": "Python 2",
   "language": "python",
   "name": "python2"
  },
  "language_info": {
   "codemirror_mode": {
    "name": "ipython",
    "version": 2
   },
   "file_extension": ".py",
   "mimetype": "text/x-python",
   "name": "python",
   "nbconvert_exporter": "python",
   "pygments_lexer": "ipython2",
   "version": "2.7.6"
  }
 },
 "nbformat": 4,
 "nbformat_minor": 0
}
