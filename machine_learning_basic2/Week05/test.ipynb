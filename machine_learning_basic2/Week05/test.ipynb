{
 "cells": [
  {
   "cell_type": "code",
   "execution_count": 1,
   "metadata": {
    "collapsed": true
   },
   "outputs": [],
   "source": [
    "import numpy as np\n",
    "from cvxopt import matrix, solvers\n",
    "import matplotlib.pyplot as plt"
   ]
  },
  {
   "cell_type": "code",
   "execution_count": 2,
   "metadata": {
    "collapsed": true
   },
   "outputs": [],
   "source": [
    "%matplotlib inline"
   ]
  },
  {
   "cell_type": "code",
   "execution_count": 3,
   "metadata": {
    "collapsed": true
   },
   "outputs": [],
   "source": [
    "pos = np.array([[3, 7], [4, 6], [5, 6], [7, 7], [8, 5], [5, 5.2], [7, 5], [6, 3.75], [6, 4], [6, 5], [7, 5], [6, 4.5], [7, 4.5]])\n",
    "neg = np.array([[4, 5], [5, 5], [6, 3], [7, 4], [9, 4], [5, 4], [5, 4.5], [5, 3.5], [7, 3.5]])\n",
    "\n",
    "C = 0.1\n",
    "\n",
    "X = np.ones((pos.shape[0]+neg.shape[0], 2))\n",
    "X[0:pos.shape[0], :] = pos\n",
    "X[pos.shape[0]:pos.shape[0]+neg.shape[0], :] = neg\n",
    "\n",
    "Y = np.ones(pos.shape[0] + neg.shape[0])\n",
    "Y[0:pos.shape[0]] = 1\n",
    "Y[pos.shape[0]:pos.shape[0]+neg.shape[0]] = -1"
   ]
  },
  {
   "cell_type": "code",
   "execution_count": 4,
   "metadata": {
    "collapsed": false
   },
   "outputs": [
    {
     "data": {
      "image/png": "[encoded data removed]",
      "text/plain": [
       "<matplotlib.figure.Figure at 0x167a9518>"
      ]
     },
     "metadata": {},
     "output_type": "display_data"
    }
   ],
   "source": [
    "plt.figure(1, figsize = (7, 7))\n",
    "plt.plot(X[0:pos.shape[0], 0], X[0:pos.shape[0], 1], 'b+', label = 'positive')\n",
    "plt.plot(X[pos.shape[0]:pos.shape[0] + neg.shape[0], 0], \n",
    "         X[pos.shape[0]:pos.shape[0] + neg.shape[0], 1], 'ro', markeredgecolor = 'None', label = 'negative')\n",
    "plt.legend()\n",
    "plt.show()"
   ]
  },
  {
   "cell_type": "code",
   "execution_count": 5,
   "metadata": {
    "collapsed": false
   },
   "outputs": [
    {
     "name": "stdout",
     "output_type": "stream",
     "text": [
      "     pcost       dcost       gap    pres   dres\n",
      " 0: -7.7115e+00 -4.6032e+00  1e+02  1e+01  2e-14\n",
      " 1: -1.2660e+00 -4.4002e+00  3e+00  2e-02  3e-14\n",
      " 2: -1.4166e+00 -1.7287e+00  3e-01  2e-03  7e-15\n",
      " 3: -1.5495e+00 -1.6119e+00  6e-02  4e-04  4e-15\n",
      " 4: -1.5825e+00 -1.5942e+00  1e-02  6e-05  5e-15\n",
      " 5: -1.5886e+00 -1.5889e+00  3e-04  1e-06  6e-15\n",
      " 6: -1.5888e+00 -1.5888e+00  3e-06  1e-08  6e-15\n",
      " 7: -1.5888e+00 -1.5888e+00  3e-08  1e-10  5e-15\n",
      "Optimal solution found.\n"
     ]
    }
   ],
   "source": [
    "H = np.zeros((pos.shape[0] + neg.shape[0], pos.shape[0] + neg.shape[0]))\n",
    "\n",
    "for i in range(pos.shape[0] + neg.shape[0]):\n",
    "    for j in range(pos.shape[0] + neg.shape[0]):\n",
    "        H[i,j] += np.dot(X[i,:], X[j, :]) * Y[i] * Y[j] * -1\n",
    "        \n",
    "f = np.ones(pos.shape[0] + neg.shape[0])\n",
    "\n",
    "H = -1*H\n",
    "f = -1*f\n",
    "\n",
    "A = np.zeros((pos.shape[0] + neg.shape[0] + pos.shape[0] + neg.shape[0], pos.shape[0] + neg.shape[0]))\n",
    "b = np.zeros(pos.shape[0] + neg.shape[0] + pos.shape[0] + neg.shape[0])\n",
    "\n",
    "for i in range(pos.shape[0] + neg.shape[0]):\n",
    "    A[i, i] = -1\n",
    "    A[i + pos.shape[0] + neg.shape[0], i] = 1\n",
    "    b[i + pos.shape[0] + neg.shape[0]] = C\n",
    "    \n",
    "Aeq = np.zeros((1, pos.shape[0] + neg.shape[0]))\n",
    "Beq = np.zeros((1, 1))\n",
    "\n",
    "for i in range(pos.shape[0] + neg.shape[0]):\n",
    "    Aeq[0, i] = Y[i]\n",
    "\n",
    "f = matrix(f)\n",
    "H = matrix(H)\n",
    "A = matrix(A)\n",
    "b = matrix(b)\n",
    "Aeq = matrix(Aeq)\n",
    "Beq = matrix(Beq)\n",
    "\n",
    "sol = solvers.qp(H, f, A, b, Aeq, Beq)\n",
    "alpha = sol['x']"
   ]
  },
  {
   "cell_type": "code",
   "execution_count": 6,
   "metadata": {
    "collapsed": false
   },
   "outputs": [],
   "source": [
    "w = np.zeros(pos.shape[1] + 1)\n",
    "for j in range(pos.shape[1]):\n",
    "    for i in range(pos.shape[0] + neg.shape[0]):\n",
    "        w[j] += alpha[i]*Y[i]*X[i,j]\n",
    "        \n",
    "wx = np.asarray(np.dot(w[0:pos.shape[1]], X.T))\n",
    "bs = Y - wx\n",
    "w[2] = bs[1]"
   ]
  },
  {
   "cell_type": "code",
   "execution_count": 7,
   "metadata": {
    "collapsed": false
   },
   "outputs": [
    {
     "data": {
      "image/png": "[encoded data removed]",
      "text/plain": [
       "<matplotlib.figure.Figure at 0x16a9b748>"
      ]
     },
     "metadata": {},
     "output_type": "display_data"
    }
   ],
   "source": [
    "plt.figure(1, figsize = (7, 7))\n",
    "plt.plot(X[0:pos.shape[0], 0], X[0:pos.shape[0], 1], 'b+', label = 'positive')\n",
    "plt.plot(X[pos.shape[0]:pos.shape[0] + neg.shape[0], 0], \n",
    "         X[pos.shape[0]:pos.shape[0] + neg.shape[0], 1], 'ro', markeredgecolor = 'None', label = 'negative')\n",
    "plt.legend()\n",
    "\n",
    "lineX = [1, 10]\n",
    "\n",
    "lineY0 = [(w[2] + w[0]*lineX[0])/-w[1], (w[2] + w[0]*lineX[1])/-w[1]]\n",
    "plt.plot(lineX, lineY0, 'm-')\n",
    "\n",
    "margin = 1 / np.linalg.norm(w[0:2])\n",
    "\n",
    "lineY1 = [(w[2] + w[0]*lineX[0])/-w[1] + margin, (w[2] + w[0]*lineX[1])/-w[1] + margin]\n",
    "plt.plot(lineX, lineY1, 'b-')\n",
    "\n",
    "lineY2 = [(w[2] + w[0]*lineX[0])/-w[1] - margin, (w[2] + w[0]*lineX[1])/-w[1] - margin]\n",
    "plt.plot(lineX, lineY2, 'r-')\n",
    "\n",
    "plt.show()"
   ]
  }
 ],
 "metadata": {
  "kernelspec": {
   "display_name": "Python 2",
   "language": "python",
   "name": "python2"
  },
  "language_info": {
   "codemirror_mode": {
    "name": "ipython",
    "version": 2
   },
   "file_extension": ".py",
   "mimetype": "text/x-python",
   "name": "python",
   "nbconvert_exporter": "python",
   "pygments_lexer": "ipython2",
   "version": "2.7.6"
  }
 },
 "nbformat": 4,
 "nbformat_minor": 0
}
