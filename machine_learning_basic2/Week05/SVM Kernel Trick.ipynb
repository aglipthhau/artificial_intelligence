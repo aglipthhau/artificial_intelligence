{
 "cells": [
  {
   "cell_type": "code",
   "execution_count": 1,
   "metadata": {
    "collapsed": false
   },
   "outputs": [],
   "source": [
    "import numpy as np\n",
    "from cvxopt import matrix, solvers\n",
    "import matplotlib.pyplot as plt\n",
    "import matplotlib\n",
    "from mpl_toolkits.mplot3d import Axes3D"
   ]
  },
  {
   "cell_type": "code",
   "execution_count": 2,
   "metadata": {
    "collapsed": true
   },
   "outputs": [],
   "source": [
    "%matplotlib inline"
   ]
  },
  {
   "cell_type": "code",
   "execution_count": 3,
   "metadata": {
    "collapsed": true
   },
   "outputs": [],
   "source": [
    "def Kernel(X1, X2):\n",
    "    selection = 2\n",
    "    param = 5\n",
    "    param1 = 1000\n",
    "    param2 = -100\n",
    "    \n",
    "    if selection == 1:\n",
    "        return pow(np.dot(X1, X2), param)\n",
    "    elif selection == 2:\n",
    "        return pow(np.dot(X1, X2) + 1, param)\n",
    "    elif selection == 3:\n",
    "        return np.exp(-param * np.dot((X1-X2), (X1-X2)))\n",
    "    elif selection == 4:\n",
    "        return np.tanh(np.dot(X1, X2)*param1 + param2)        "
   ]
  },
  {
   "cell_type": "code",
   "execution_count": 4,
   "metadata": {
    "collapsed": true
   },
   "outputs": [],
   "source": [
    "pos = np.array([[3, 7], [4, 6], [5, 6], [7, 7], [8, 5], [5, 5.2], [7, 5], [6, 3.75], [6, 4], [6, 5], [7, 5], [6, 4.5], [7, 4.5]])\n",
    "neg = np.array([[4, 5], [5, 5], [6, 3], [7, 4], [9, 4], [5, 4], [5, 4.5], [5, 3.5], [7, 3.5]])\n",
    "\n",
    "C = 1\n",
    "\n",
    "X = np.ones((pos.shape[0]+neg.shape[0], 2))\n",
    "X[0:pos.shape[0], :] = pos\n",
    "X[pos.shape[0]:pos.shape[0]+neg.shape[0], :] = neg\n",
    "\n",
    "Y = np.ones(pos.shape[0] + neg.shape[0])\n",
    "Y[0:pos.shape[0]] = 1\n",
    "Y[pos.shape[0]:pos.shape[0]+neg.shape[0]] = -1"
   ]
  },
  {
   "cell_type": "code",
   "execution_count": null,
   "metadata": {
    "collapsed": false
   },
   "outputs": [],
   "source": [
    "H = np.zeros((pos.shape[0] + neg.shape[0], pos.shape[0] + neg.shape[0]))\n",
    "\n",
    "for i in range(pos.shape[0] + neg.shape[0]):\n",
    "    for j in range(pos.shape[0] + neg.shape[0]):\n",
    "        H[i,j] += Kernel(X[i,:], X[j, :]) * Y[i] * Y[j] * -1\n",
    "        \n",
    "f = np.ones(pos.shape[0] + neg.shape[0])\n",
    "\n",
    "H = -1*H\n",
    "f = -1*f\n",
    "\n",
    "A = np.zeros((pos.shape[0] + neg.shape[0] + pos.shape[0] + neg.shape[0], pos.shape[0] + neg.shape[0]))\n",
    "b = np.zeros(pos.shape[0] + neg.shape[0] + pos.shape[0] + neg.shape[0])\n",
    "\n",
    "for i in range(pos.shape[0] + neg.shape[0]):\n",
    "    A[i, i] = -1\n",
    "    A[i + pos.shape[0] + neg.shape[0], i] = 1\n",
    "    b[i + pos.shape[0] + neg.shape[0]] = C\n",
    "    \n",
    "Aeq = np.zeros((1, pos.shape[0] + neg.shape[0]))\n",
    "Beq = np.zeros((1, 1))\n",
    "\n",
    "for i in range(pos.shape[0] + neg.shape[0]):\n",
    "    Aeq[0, i] = Y[i]\n",
    "\n",
    "f = matrix(f)\n",
    "H = matrix(H)\n",
    "A = matrix(A)\n",
    "b = matrix(b)\n",
    "Aeq = matrix(Aeq)\n",
    "Beq = matrix(Beq)\n",
    "\n",
    "sol = solvers.qp(H, f, A, b, Aeq, Beq)\n",
    "alpha = sol['x']"
   ]
  },
  {
   "cell_type": "code",
   "execution_count": null,
   "metadata": {
    "collapsed": false
   },
   "outputs": [],
   "source": [
    "bs = np.zeros(X.shape[0])\n",
    "k = -1\n",
    "\n",
    "for j in range(X.shape[0]):\n",
    "    temp = 0\n",
    "    for i in range(X.shape[0]):\n",
    "        temp += alpha[i] * Y[i] * Kernel(X[i], X[j])\n",
    "    bs[j] = Y[j] - temp\n",
    "    \n",
    "    if alpha[j] > 0.0001 and alpha[j] < C - 0.0001:\n",
    "        k = j\n",
    "\n",
    "b = bs[k]\n",
    "\n",
    "a = np.zeros(X.shape[0])\n",
    "for j in range(X.shape[0]):\n",
    "    temp = 0\n",
    "    for i in range(X.shape[0]):\n",
    "        temp += alpha[i] * Y[i] * Kernel(X[i, :], X[j, :])\n",
    "    a[j] = temp + b"
   ]
  },
  {
   "cell_type": "code",
   "execution_count": null,
   "metadata": {
    "collapsed": false
   },
   "outputs": [],
   "source": [
    "x1 = np.linspace(1, 10)\n",
    "x2 = np.linspace(3, 7)\n",
    "xx1, xx2 = np.meshgrid(x1, x2)\n",
    "\n",
    "f = np.zeros((len(x1), len(x2)))\n",
    "\n",
    "for i in range(len(x1)):\n",
    "    for j in range(len(x2)):\n",
    "        temp = [x1[i], x2[j]]\n",
    "        f[j, i] = 0\n",
    "        for k in range(len(alpha)):\n",
    "            f[j, i] += alpha[k] * Y[k] * Kernel(X[k, :], temp)\n",
    "        f[j, i] += b                "
   ]
  },
  {
   "cell_type": "code",
   "execution_count": null,
   "metadata": {
    "collapsed": false
   },
   "outputs": [],
   "source": [
    "lev = np.arange(-10, 10, 5)\n",
    "plt.figure(1, figsize = (7, 7))\n",
    "plt.plot(X[0:pos.shape[0], 0], X[0:pos.shape[0], 1], 'b+', label = 'positive')\n",
    "plt.plot(X[pos.shape[0]:pos.shape[0] + neg.shape[0], 0], \n",
    "         X[pos.shape[0]:pos.shape[0] + neg.shape[0], 1], 'ro', markeredgecolor = 'None', label = 'negative')\n",
    "\n",
    "c = plt.contour(x1, x2, f, levels = [-0.01], colors = 'g', linestyles = 'solid')\n",
    "plt.legend()\n",
    "for i in range(X.shape[0]):\n",
    "    plt.text(X[i, 0], X[i, 1], '%.2f\\n'%(a[i]))\n"
   ]
  },
  {
   "cell_type": "code",
   "execution_count": null,
   "metadata": {
    "collapsed": false
   },
   "outputs": [],
   "source": [
    "%matplotlib qt\n",
    "fig = plt.figure(figsize = (10, 10))\n",
    "\n",
    "ax = fig.add_subplot(1, 1, 1, projection='3d')\n",
    "\n",
    "ax.scatter(X[0:pos.shape[0], 0], X[0:pos.shape[0], 1], a[0:pos.shape[0]], c = 'b', s = 50)\n",
    "ax.scatter(X[pos.shape[0]:pos.shape[0] + neg.shape[0], 0], \n",
    "           X[pos.shape[0]:pos.shape[0] + neg.shape[0], 1], \n",
    "           a[pos.shape[0]:pos.shape[0] + neg.shape[0]], c = 'r', s = 50)\n",
    "ax.plot_surface(xx1, xx2, f, rstride=1, cstride=1, cmap='RdBu', alpha = 0.3)\n",
    "\n",
    "ax.plot_wireframe(xx1, xx2, np.zeros((len(x1), len(x2))), rstride=5, cstride=5, color = 'k', alpha = 0.5)\n",
    "\n",
    "plt.contour(x1, x2, f, levels = [0], colors = 'k', linestyles = 'solid')\n",
    "plt.show()"
   ]
  }
 ],
 "metadata": {
  "kernelspec": {
   "display_name": "Python 2",
   "language": "python",
   "name": "python2"
  },
  "language_info": {
   "codemirror_mode": {
    "name": "ipython",
    "version": 2
   },
   "file_extension": ".py",
   "mimetype": "text/x-python",
   "name": "python",
   "nbconvert_exporter": "python",
   "pygments_lexer": "ipython2",
   "version": "2.7.11"
  }
 },
 "nbformat": 4,
 "nbformat_minor": 0
}
