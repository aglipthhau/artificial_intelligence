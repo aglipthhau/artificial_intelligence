{
 "cells": [
  {
   "cell_type": "code",
   "execution_count": 1,
   "metadata": {
    "collapsed": false
   },
   "outputs": [
    {
     "ename": "ImportError",
     "evalue": "/usr/lib/liblapack.so.3: undefined symbol: ATL_chemv",
     "output_type": "error",
     "traceback": [
      "\u001b[1;31m---------------------------------------------------------------------------\u001b[0m",
      "\u001b[1;31mImportError\u001b[0m                               Traceback (most recent call last)",
      "\u001b[1;32m<ipython-input-1-cf7bcf73d8e6>\u001b[0m in \u001b[0;36m<module>\u001b[1;34m()\u001b[0m\n\u001b[0;32m      1\u001b[0m \u001b[1;32mimport\u001b[0m \u001b[0mnumpy\u001b[0m \u001b[1;32mas\u001b[0m \u001b[0mnp\u001b[0m\u001b[1;33m\u001b[0m\u001b[0m\n\u001b[1;32m----> 2\u001b[1;33m \u001b[1;32mfrom\u001b[0m \u001b[0mcvxopt\u001b[0m \u001b[1;32mimport\u001b[0m \u001b[0mmatrix\u001b[0m\u001b[1;33m,\u001b[0m \u001b[0msolvers\u001b[0m\u001b[1;33m\u001b[0m\u001b[0m\n\u001b[0m\u001b[0;32m      3\u001b[0m \u001b[1;32mimport\u001b[0m \u001b[0mmatplotlib\u001b[0m\u001b[1;33m.\u001b[0m\u001b[0mpyplot\u001b[0m \u001b[1;32mas\u001b[0m \u001b[0mplt\u001b[0m\u001b[1;33m\u001b[0m\u001b[0m\n\u001b[0;32m      4\u001b[0m \u001b[1;32mimport\u001b[0m \u001b[0mmatplotlib\u001b[0m\u001b[1;33m\u001b[0m\u001b[0m\n\u001b[0;32m      5\u001b[0m \u001b[1;32mfrom\u001b[0m \u001b[0mmpl_toolkits\u001b[0m\u001b[1;33m.\u001b[0m\u001b[0mmplot3d\u001b[0m \u001b[1;32mimport\u001b[0m \u001b[0mAxes3D\u001b[0m\u001b[1;33m\u001b[0m\u001b[0m\n",
      "\u001b[1;32m/home/seslab/.local/lib/python2.7/site-packages/cvxopt/__init__.py\u001b[0m in \u001b[0;36m<module>\u001b[1;34m()\u001b[0m\n\u001b[0;32m     30\u001b[0m \u001b[1;31m# You should have received a copy of the GNU General Public License\u001b[0m\u001b[1;33m\u001b[0m\u001b[1;33m\u001b[0m\u001b[0m\n\u001b[0;32m     31\u001b[0m \u001b[1;33m\u001b[0m\u001b[0m\n\u001b[1;32m---> 32\u001b[1;33m \u001b[1;32mimport\u001b[0m \u001b[0mcvxopt\u001b[0m\u001b[1;33m.\u001b[0m\u001b[0mbase\u001b[0m\u001b[1;33m\u001b[0m\u001b[0m\n\u001b[0m\u001b[0;32m     33\u001b[0m \u001b[1;33m\u001b[0m\u001b[0m\n\u001b[0;32m     34\u001b[0m \u001b[1;32mdef\u001b[0m \u001b[0mnormal\u001b[0m\u001b[1;33m(\u001b[0m\u001b[0mnrows\u001b[0m\u001b[1;33m,\u001b[0m \u001b[0mncols\u001b[0m\u001b[1;33m=\u001b[0m\u001b[1;36m1\u001b[0m\u001b[1;33m,\u001b[0m \u001b[0mmean\u001b[0m\u001b[1;33m=\u001b[0m\u001b[1;36m0.0\u001b[0m\u001b[1;33m,\u001b[0m \u001b[0mstd\u001b[0m\u001b[1;33m=\u001b[0m\u001b[1;36m1.0\u001b[0m\u001b[1;33m)\u001b[0m\u001b[1;33m:\u001b[0m\u001b[1;33m\u001b[0m\u001b[0m\n",
      "\u001b[1;31mImportError\u001b[0m: /usr/lib/liblapack.so.3: undefined symbol: ATL_chemv"
     ]
    }
   ],
   "source": [
    "import numpy as np\n",
    "from cvxopt import matrix, solvers\n",
    "import matplotlib.pyplot as plt\n",
    "import matplotlib\n",
    "from mpl_toolkits.mplot3d import Axes3D"
   ]
  },
  {
   "cell_type": "code",
   "execution_count": null,
   "metadata": {
    "collapsed": true
   },
   "outputs": [],
   "source": [
    "%matplotlib inline"
   ]
  },
  {
   "cell_type": "code",
   "execution_count": null,
   "metadata": {
    "collapsed": false
   },
   "outputs": [],
   "source": [
    "pos = np.array([[3, 7], [4, 6], [5, 6], [7, 7], [8, 5], [5, 5.2], [7, 5], [6, 3.75], [6, 4], [6, 5], [7, 5], [6, 4.5], [7, 4.5]])\n",
    "neg = np.array([[4, 5], [5, 5], [6, 3], [7, 4], [9, 4], [5, 4], [5, 4.5], [5, 3.5], [7, 3.5]])\n",
    "\n",
    "X = np.ones((pos.shape[0] + neg.shape[0], 9))\n",
    "X[0:pos.shape[0], 0:2] = pos\n",
    "X[pos.shape[0]:pos.shape[0]+neg.shape[0], 0:2] = neg\n",
    "\n",
    "Y = np.ones(pos.shape[0] + neg.shape[0])\n",
    "Y[0:pos.shape[0]] = 1\n",
    "Y[pos.shape[0]:pos.shape[0]+neg.shape[0]] = -1\n",
    "\n",
    "X[:, 2] = X[:, 0] * X[:, 0]\n",
    "X[:, 3] = X[:, 1] * X[:, 1]\n",
    "X[:, 4] = X[:, 0] * X[:, 1]\n",
    "\n",
    "X[:, 5] = X[:, 2] * X[:, 0]\n",
    "X[:, 6] = X[:, 3] * X[:, 1]\n",
    "X[:, 7] = X[:, 4] * X[:, 0]\n",
    "X[:, 8] = X[:, 4] * X[:, 1]\n",
    "\n",
    "C = 10"
   ]
  },
  {
   "cell_type": "code",
   "execution_count": null,
   "metadata": {
    "collapsed": false
   },
   "outputs": [],
   "source": [
    "A = np.zeros((X.shape[0] + X.shape[0], X.shape[1] + X.shape[0] + 1))\n",
    "\n",
    "for i in range(X.shape[0]):\n",
    "    for j in range(X.shape[1]):\n",
    "        A[i, j] = X[i, j] * Y[i]\n",
    "        \n",
    "    A[i, X.shape[1]] = Y[i]\n",
    "    A[i, X.shape[1] + i + 1] = -1\n",
    "    \n",
    "for i in range(X.shape[0]):\n",
    "    A[i + X.shape[0], X.shape[1] + i + 1] = -1\n",
    "\n",
    "b = np.zeros(X.shape[0] + X.shape[0])\n",
    "b[0:X.shape[0]] = -1\n",
    "\n",
    "H = np.zeros((X.shape[1] + 1 + X.shape[0], X.shape[1] + 1 + X.shape[0]))\n",
    "for i in range(X.shape[1]):\n",
    "    H[i, i]  =  1\n",
    "    \n",
    "f = np.zeros(X.shape[1] + 1 + X.shape[0])\n",
    "for i in range(X.shape[1] + 1, X.shape[1] + 1 + X.shape[0]):\n",
    "    f[i] = C\n",
    "    \n",
    "H = matrix(H)\n",
    "f = matrix(f)\n",
    "A = matrix(A)\n",
    "b = matrix(b)\n",
    "\n",
    "sol = solvers.qp(H, f, A, b)\n",
    "w = np.asarray(sol['x'])\n",
    "a = -np.dot(A,w)"
   ]
  },
  {
   "cell_type": "code",
   "execution_count": null,
   "metadata": {
    "collapsed": false
   },
   "outputs": [],
   "source": [
    "plt.figure(figsize = (6, 6))\n",
    "plt.axis((1, 10, 3, 7))\n",
    "plt.figure(1, figsize = (7, 7))\n",
    "plt.plot(X[0:pos.shape[0], 0], X[0:pos.shape[0], 1], 'bo', label = 'positive')\n",
    "plt.plot(X[pos.shape[0]:pos.shape[0] + neg.shape[0], 0], X[pos.shape[0]:pos.shape[0] + neg.shape[0], 1], 'ro', label = 'negative')\n",
    "plt.legend()\n",
    "for i in range(X.shape[0]):\n",
    "    plt.text(X[i, 0], X[i, 1], '%.2e\\n'%(w[i + int(X.shape[1]) + 1]))\n",
    "    \n",
    "lineX = [1, 10]\n",
    "\n",
    "lineY0 = [(w[2] + w[0]*lineX[0])/-w[1], (w[2] + w[0]*lineX[1])/-w[1]]\n",
    "plt.plot(lineX, lineY0, 'c')\n",
    "\n",
    "margin = 1 / np.linalg.norm(w[0:2])\n",
    "\n",
    "lineY1 = [(w[2] + w[0]*lineX[0])/-w[1] + margin, (w[2] + w[0]*lineX[1])/-w[1] + margin]\n",
    "plt.plot(lineX, lineY1, 'b-')\n",
    "\n",
    "lineY2 = [(w[2] + w[0]*lineX[0])/-w[1] - margin, (w[2] + w[0]*lineX[1])/-w[1] - margin]\n",
    "plt.plot(lineX, lineY2, 'r-')\n",
    "\n",
    "a = -1 * np.dot(A, w)\n",
    "    \n",
    "plt.show()"
   ]
  },
  {
   "cell_type": "code",
   "execution_count": null,
   "metadata": {
    "collapsed": false
   },
   "outputs": [],
   "source": [
    "x1 = np.linspace(1, 10)\n",
    "x2 = np.linspace(3, 7)\n",
    "xx1, xx2 = np.meshgrid(x1, x2)\n",
    "\n",
    "f = np.zeros((len(x1), len(x2)))\n",
    "\n",
    "for i in range(len(x1)):\n",
    "    for j in range(len(x2)):\n",
    "        temp = np.zeros((X.shape[1], 1))\n",
    "        temp[0] = x1[i]\n",
    "        temp[1] = x2[j]\n",
    "        temp[2] = x1[i]*x1[i]\n",
    "        temp[3] = x2[j]*x2[j]\n",
    "        temp[4] = x1[i]*x2[j]\n",
    "        temp[5] = x1[i]*x1[i]*x1[i]\n",
    "        temp[6] = x2[j]*x2[j]*x2[j]\n",
    "        temp[7] = x1[i]*x1[i]*x2[j]\n",
    "        temp[8] = x1[i]*x2[j]*x2[j]\n",
    "        f[j, i] = np.dot(w[0:X.shape[1]].T, temp) + w[X.shape[1]]"
   ]
  },
  {
   "cell_type": "code",
   "execution_count": null,
   "metadata": {
    "collapsed": false
   },
   "outputs": [],
   "source": [
    "lev = np.arange(-100, 100, 1)\n",
    "\n",
    "fig = plt.figure(1, figsize = (10, 7))\n",
    "plt.axis((1, 10, 3, 7))\n",
    "\n",
    "plt.plot(X[0:pos.shape[0], 0], X[0:pos.shape[0], 1], 'bo', label = 'positive')\n",
    "plt.plot(X[pos.shape[0]:pos.shape[0] + neg.shape[0], 0], X[pos.shape[0]:pos.shape[0] + neg.shape[0], 1], 'ro', label = 'negative')\n",
    "\n",
    "plt.legend()\n",
    "\n",
    "for i in range(X.shape[0]):\n",
    "    plt.text(X[i, 0], X[i, 1], '%.2e\\n'%(w[i + int(X.shape[1]) + 1]))\n",
    "\n",
    "c = plt.contour(x1, x2, f, levels = lev, linestyles = 'solid')\n",
    "\n",
    "cbar = plt.colorbar(c)"
   ]
  },
  {
   "cell_type": "code",
   "execution_count": null,
   "metadata": {
    "collapsed": false
   },
   "outputs": [],
   "source": [
    "%matplotlib qt\n",
    "fig = plt.figure(figsize = (10, 10))\n",
    "\n",
    "ax = fig.add_subplot(1, 1, 1, projection='3d')\n",
    "ax.plot_surface(xx1, xx2, f, rstride=5, cstride=5, cmap='RdBu_r', alpha = 0.3)\n",
    "ax.scatter(X[0:pos.shape[0], 0], X[0:pos.shape[0], 1], np.dot(w[0:X.shape[1]].T, X[0:pos.shape[0], :].T) + w[X.shape[1]], c = 'b', s = 50)\n",
    "ax.scatter(X[pos.shape[0]:pos.shape[0] + neg.shape[0], 0], X[pos.shape[0]:pos.shape[0] + neg.shape[0], 1], \n",
    "           np.dot(w[0:X.shape[1]].T, X[pos.shape[0]:pos.shape[0] + neg.shape[0]].T) + w[X.shape[1]], c = 'r', s = 50)\n",
    "ax.plot_wireframe(xx1, xx2, np.zeros((len(x1), len(x2))), rstride=5, cstride=5, colors = 'k', alpha = 0.5)\n",
    "plt.contour(x1, x2, f, levels = [0], colors = 'k', linestyles = 'solid')\n",
    "plt.show()"
   ]
  }
 ],
 "metadata": {
  "kernelspec": {
   "display_name": "Python 2",
   "language": "python",
   "name": "python2"
  },
  "language_info": {
   "codemirror_mode": {
    "name": "ipython",
    "version": 2
   },
   "file_extension": ".py",
   "mimetype": "text/x-python",
   "name": "python",
   "nbconvert_exporter": "python",
   "pygments_lexer": "ipython2",
   "version": "2.7.6"
  }
 },
 "nbformat": 4,
 "nbformat_minor": 0
}
