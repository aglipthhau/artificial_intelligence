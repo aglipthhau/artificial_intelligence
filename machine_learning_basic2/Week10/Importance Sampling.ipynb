{
 "cells": [
  {
   "cell_type": "markdown",
   "metadata": {},
   "source": [
    "# Importance Sampling\n",
    "\n",
    "본 코드는 Importance Sampling의 구현 예시입니다.  \n",
    "본 코드에서는 Mixture distribution 중 하나인 Gaussian Mixture distribution을 이용하여 구현하였습니다.  \n",
    "본 코드를 통하여, 기초적인 Sampling Based Inference인 Importance Sampling의 이론과 구현 과정을 익힐 수 있습니다.\n",
    "\n",
    "Importance Sampling은 원하는 확률값이나 기댓값을 직접 구하는 것을 목표로 Sampling하는 방법입니다.  \n",
    "Forward Sampling과 Rejection Sampling은 Sampling된 결과를 바탕으로 히스토그램을 그려서 pdf를 나타내었다면, Importance Sampling은 이러한 과정 없이 원하는 확률값과 기댓값을 구함로써 계산량을 줄일 수 있습니다.  \n",
    "\n",
    "\n",
    "먼저 Importance Sampling으로 확률 모델의 기댓값을 구하는 과정을 알아봅시다.\n",
    "확률 모델의 확률변수 z와 이의 distribution p(z)이 있을 경우, 임의의 함수 f(z)에 대한 기댓값은 정의에 따라 아래와 같이 구할 수 있습니다.\n",
    "$$\\mathrm{E}[f(z)] = \\int f(z)p(z)\\,dz$$\n",
    "그러나 현재 단계에서 Z의 distribution p(z)를 알 수 없으므로 우리가 잘 알고 있는 새로운 함수 q(z)를 도입하여 식을 전개해보면 아래와 같습니다.\n",
    "$$\\mathrm{E}[f(z)] = \\int f(z)p(z)\\,dz = \\int f(z) \\frac{p(z)}{q(z)} q(z)\\, dz \\cong \\frac{1}{L}\\sum_{l=1}^L \\frac{p(z_l)}{q(z_l)}f(z_l)$$\n",
    "위의 유도 과정의 마지막 부분은 q(z)dz를 Normalizing constant $\\frac{1}{L}$로, 적분을 finite sum으로 바꾸어 근사하였습니다. 위와 같은 근사가 가능한 이유는 무한대로 많은 z에 대한 확률 계산이 포함된 적분을 더 이상 전개할 순 없지만, z값이 어떤 값으로 주어졌다면 이의 정확한 p(z)를 구하는 것은 가능하기 때문입니다.        \n",
    "이때 위의 finite sum에서 sample $z_l$의 함수값 $f(z_l)$에 곱해진 값은 $f(z_l)$의 weight로 해석할 수 있습니다. 이를 우리는 Importance Weight로 정의하며 아래와 같이 표현합니다.\n",
    "$$r_l = \\frac{p(z_l)}{q(z_l)}$$\n",
    "\n",
    "마찬가지의 아이디어와 방법으로 Importance Sampling으로 확률 모델의 확률값을 구하는 방법을 아래와 같습니다. \n",
    "$$P(z>1) = \\int 1_{z>1}p(z)\\,dz = \\int 1_{z>1} \\frac{p(z)}{q(z)} q(z)\\, dz \\cong \\frac{1}{L}\\sum_{l=1}^L \\frac{p(z_l)}{q(z_l)}1_{z_l>1}$$\n",
    "$1_(z>1)$은 indicator function을 의미하며 z>1인 z에 대해서는 $1_(z>1)(z)=1$, z$leq$1인 z에 대해서는 $1_(z>1)(z)=0$을 갖는 함수입니다."
   ]
  },
  {
   "cell_type": "code",
   "execution_count": 7,
   "metadata": {
    "collapsed": true
   },
   "outputs": [],
   "source": [
    "'''\n",
    "@ copyright: AAI lab (http://aailab.kaist.ac.kr/xe2/page_GBex27)\n",
    "@ author: Moon Il-chul: icmoon@kaist.ac.kr\n",
    "@ annotated by Shin Dong-Hyeok: tlsehdgur0@kaist.ac.kr\n",
    "'''\n",
    "import scipy.io as sio\n",
    "import numpy as np\n",
    "import matplotlib.pyplot as plt\n",
    "from scipy.stats import multivariate_normal\n",
    "\n",
    "%matplotlib inline  "
   ]
  },
  {
   "cell_type": "markdown",
   "metadata": {},
   "source": [
    "## Forward Sampling"
   ]
  },
  {
   "cell_type": "code",
   "execution_count": 8,
   "metadata": {
    "collapsed": true
   },
   "outputs": [],
   "source": [
    "# Gaussian Mixture distribution의 Hyper paramter의 true value 부여\n",
    "pi_true = np.array([0.35, 0.45, 0.2]) # Hyperparameter π의 실제 값\n",
    "mu_true = np.array([-2,1,5])  # Hyperparameter μ의 실제 값\n",
    "sigma_true = np.array([0.9, 0.3, .7])  # Hyperparameter Σ의 실제 값\n",
    "\n",
    "N = 30000 # N : 전체 샘플의 갯수 \n",
    "obs = np.zeros(N) # obs : N개의 샘플, X의 값을 저장\n",
    "\n",
    "for i in range(N):\n",
    "    # z에 대한 샘플링 과정\n",
    "    z = np.random.random_sample() # [0.0, 1.0)에서 임의의 실수를 선택 \n",
    "    idx = 0\n",
    "    tempSum = 0\n",
    "    \n",
    "    # z가 속한 범위에 따라 Hyperparameter의 index를 결정하는 과정\n",
    "    # ex) (0,0.35] -> 0 , (0.35,0.8] -> 1, (0.8,1] -> 2\n",
    "    for j in range(np.size(pi_true)):\n",
    "        if ((z > tempSum) & (z<=tempSum+pi_true[j])):\n",
    "            idx = j\n",
    "            break\n",
    "        else:\n",
    "            tempSum = tempSum + pi_true[j]\n",
    "    \n",
    "    # X에 대한 샘플링 과정\n",
    "    # 샘플링한 z의 값에 대응하는 μ,Σ를 갖는 다변수 가우스 분포에서 X를 샘플링\n",
    "    v_temp = np.random.normal(mu_true[idx], sigma_true[idx], 1)\n",
    "    obs[i] = v_temp;"
   ]
  },
  {
   "cell_type": "code",
   "execution_count": 9,
   "metadata": {
    "scrolled": false
   },
   "outputs": [
    {
     "name": "stderr",
     "output_type": "stream",
     "text": [
      "C:\\Users\\Dong-Hyeok\\Anaconda3\\lib\\site-packages\\ipykernel_launcher.py:2: DeprecationWarning: object of type <class 'float'> cannot be safely interpreted as an integer.\n",
      "  \n",
      "C:\\Users\\Dong-Hyeok\\Anaconda3\\lib\\site-packages\\ipykernel_launcher.py:9: DeprecationWarning: object of type <class 'float'> cannot be safely interpreted as an integer.\n",
      "  if __name__ == '__main__':\n"
     ]
    },
    {
     "data": {
      "image/png": "[encoded data removed]",
      "text/plain": [
       "<matplotlib.figure.Figure at 0x5cfd255f28>"
      ]
     },
     "metadata": {},
     "output_type": "display_data"
    }
   ],
   "source": [
    "plt.figure(1, figsize=(15,7))\n",
    "x = np.linspace(-10,10,(10-(-10))/0.1)\n",
    "plt.subplot(1,2,1)\n",
    "plt.plot(x,pi_true[0] * multivariate_normal.pdf(x, mu_true[0], sigma_true[0]),'r')\n",
    "plt.plot(x,pi_true[1] * multivariate_normal.pdf(x, mu_true[1], sigma_true[1]),'g')\n",
    "plt.plot(x,pi_true[2] * multivariate_normal.pdf(x, mu_true[2], sigma_true[2]),'b')\n",
    "\n",
    "plt.subplot(1,2,2)\n",
    "plt.hist(obs, bins=np.linspace(-10,10,(10-(-10))/0.1))\n",
    "plt.show()"
   ]
  },
  {
   "cell_type": "markdown",
   "metadata": {},
   "source": [
    "## Importance Sampling"
   ]
  },
  {
   "cell_type": "code",
   "execution_count": 10,
   "metadata": {
    "collapsed": true
   },
   "outputs": [],
   "source": [
    "mu = np.mean(obs) # Forward Sampling으로 만들어진 sample의 mean\n",
    "sigma = np.std(obs) # Forward Sampling으로 만들어진 sample의 standard deviation\n",
    "trial = 10\n",
    "N = 30000 # N : 전체 sample의 갯수\n",
    "mus = np.zeros(trial)\n",
    "\n",
    "# Importance Sampling을 사용하여 N개의 sample로 f(z)의 기댓값을 구한 후,\n",
    "# 위의 과정은 trial만큼 반복하여 trial개의 기댓값의 기댓값을 구하는 과정. \n",
    "for i in range(trial):\n",
    "    cnt = 0\n",
    "    sumofProduct = 0\n",
    "    sumP = 0\n",
    "    sumQ = 0\n",
    "    sumPQ = 0\n",
    "    samples = np.zeros((N,2))\n",
    "    mu_assumed = 0 # q distribution의 mean\n",
    "    sigma_assumed = 40 # q distribution의 standard deviation\n",
    "    \n",
    "    while cnt < N-1:   \n",
    "        idx = np.random.randint(0,3) # 0,1,2에서 random으로 integer 하나를 선택\n",
    "        sample = np.random.normal(mu_assumed,sigma_assumed, 1) \n",
    "        q = multivariate_normal.pdf(sample, mu_assumed, sigma_assumed) # q : N(mu_assumed, sigma_assumed)에서 sample이 나올 확률, q(z_l)\n",
    "        p = pi_true[idx] * multivariate_normal.pdf(sample, mu_true[idx], sigma_true[idx]) # p : p(z_l)\n",
    "        sumofProduct = sumofProduct + p/q * sample; # f(z) = z로 가정 \n",
    "        sumPQ = sumPQ + p/q\n",
    "        cnt = cnt + 1 \n",
    "        # samples에 샘플 값과 importance weight를 함께 저장\n",
    "        samples[cnt,0] = sample\n",
    "        samples[cnt,1] = p/q\n",
    "    mu_importancesampling = sumofProduct / sumPQ\n",
    "    mus[i] = mu_importancesampling\n",
    "# 여러 번의 trial로 구한 μ와 Σ\n",
    "mu_trials = np.mean(mus)\n",
    "std_trials = np.std(mus)"
   ]
  },
  {
   "cell_type": "code",
   "execution_count": 11,
   "metadata": {},
   "outputs": [
    {
     "data": {
      "image/png": "[encoded data removed]",
      "text/plain": [
       "<matplotlib.figure.Figure at 0x5c90d30630>"
      ]
     },
     "metadata": {},
     "output_type": "display_data"
    }
   ],
   "source": [
    "plt.figure(1, figsize = (15,10))\n",
    "plt.subplot(2, 2, 1)\n",
    "fig1 = plt.bar(samples[:,0], samples[:,1], width=0.1)\n",
    "plt.xlim([-10, 10])\n",
    "\n",
    "plt.subplot(2, 2, 2)\n",
    "plt.boxplot(mus)\n",
    "\n",
    "cnt = 0\n",
    "mus_filtered = []\n",
    "# 여러 μ값 중 (μ-σ,μ+σ)에 속하는 μ의 값을 추출하는 과정\n",
    "for i in range(trial):\n",
    "    if (mus[i] <= mu_trials + std_trials) & (mus[i] >= mu_trials-std_trials):\n",
    "        cnt = cnt + 1\n",
    "        mus_filtered.append(mus[i])\n",
    "mus_filtered = np.asarray(mus_filtered)\n",
    "\n",
    "plt.subplot(2, 2, 3)\n",
    "plt.boxplot(mus_filtered)\n",
    "plt.show()"
   ]
  },
  {
   "cell_type": "code",
   "execution_count": 14,
   "metadata": {
    "scrolled": false
   },
   "outputs": [
    {
     "name": "stdout",
     "output_type": "stream",
     "text": [
      "Mu from original mixture distribution : 0.75\n",
      "Mu from forward sampling : 0.757.\n",
      "Mu from importance sampling: 1.002.\n",
      "Std from importance sampling: 0.045.\n",
      "Lower bound of confidence interval from importance sampling: 0.974\n",
      "Upper bound of confidence intrval from importance sampling: 1.030\n",
      "Mu-Filtered from imprtance sampling: 0.989.\n",
      "Std-filtered from importance sampling: 0.020.\n",
      "Lower bound of confidence interval from importance sampling-filtered: 0.976.\n",
      "Uppter bound of confidence interval from importance sampling-filtered: 1.001.\n"
     ]
    }
   ],
   "source": [
    "print('Mu from original mixture distribution :', sum(pi_true*mu_true))\n",
    "print('Mu from forward sampling : {0:.3f}.'.format(mu))\n",
    "print('Mu from importance sampling: {0:.3f}.'.format(mu_trials))\n",
    "print('Std from importance sampling: {0:.3f}.'.format(std_trials))\n",
    "print('Lower bound of confidence interval from importance sampling: {0:.3f}'.format(mu_trials-1.96*std_trials/np.sqrt(trial)))\n",
    "print('Upper bound of confidence intrval from importance sampling: {0:.3f}'.format(mu_trials+1.96*std_trials/np.sqrt(trial)))\n",
    "\n",
    "print('Mu-Filtered from imprtance sampling: {0:.3f}.'.format(np.mean(mus_filtered)))\n",
    "print('Std-filtered from importance sampling: {0:.3f}.'.format(np.std(mus_filtered)))\n",
    "print('Lower bound of confidence interval from importance sampling-filtered: {0:.3f}.'.format(np.mean(mus_filtered)-1.96*np.std(mus_filtered)/np.sqrt(trial)))\n",
    "print('Uppter bound of confidence interval from importance sampling-filtered: {0:.3f}.'.format(np.mean(mus_filtered)+1.96*np.std(mus_filtered)/np.sqrt(trial)))"
   ]
  },
  {
   "cell_type": "markdown",
   "metadata": {},
   "source": [
    "## 결과해석부\n",
    "\n",
    "첫 번째 그래프는 x축은 생성된 sample $z_l$ 값을, y축은 각 $z_l$에 해당하는 Importance weight $\\frac{p(z_l)}{q(z_l)}$을 plot한 그래프입니다.  \n",
    "두 번째 그래프는 10번의 Importance sampling을 실행하여 얻은 Z의 평균을 boxplot한 그래프입니다.  \n",
    "세 번째 그래프는 10개의 Z의 평균 중에서 (μ-σ,μ+σ)에 속하는 평균값을 추출하여 boxplot한 그래프입니다."
   ]
  }
 ],
 "metadata": {
  "kernelspec": {
   "display_name": "Python 3",
   "language": "python",
   "name": "python3"
  },
  "language_info": {
   "codemirror_mode": {
    "name": "ipython",
    "version": 3
   },
   "file_extension": ".py",
   "mimetype": "text/x-python",
   "name": "python",
   "nbconvert_exporter": "python",
   "pygments_lexer": "ipython3",
   "version": "3.6.1"
  }
 },
 "nbformat": 4,
 "nbformat_minor": 1
}
