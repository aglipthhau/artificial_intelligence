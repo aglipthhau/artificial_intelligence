{
 "cells": [
  {
   "cell_type": "markdown",
   "metadata": {},
   "source": [
    "## Single Layer Neural Network with MNIST data"
   ]
  },
  {
   "cell_type": "code",
   "execution_count": 1,
   "metadata": {},
   "outputs": [
    {
     "name": "stdout",
     "output_type": "stream",
     "text": [
      "Successfully downloaded train-images-idx3-ubyte.gz 9912422 bytes.\n",
      "Extracting ./mnist/data/train-images-idx3-ubyte.gz\n",
      "Successfully downloaded train-labels-idx1-ubyte.gz 28881 bytes.\n",
      "Extracting ./mnist/data/train-labels-idx1-ubyte.gz\n",
      "Successfully downloaded t10k-images-idx3-ubyte.gz 1648877 bytes.\n",
      "Extracting ./mnist/data/t10k-images-idx3-ubyte.gz\n",
      "Successfully downloaded t10k-labels-idx1-ubyte.gz 4542 bytes.\n",
      "Extracting ./mnist/data/t10k-labels-idx1-ubyte.gz\n"
     ]
    }
   ],
   "source": [
    "\n",
    "import tensorflow as tf\n",
    "import numpy as np\n",
    "from tensorflow.examples.tutorials.mnist import input_data\n",
    "#tensorflow is only used for loading mnist data\n",
    "\n",
    "mnist = input_data.read_data_sets(\"./mnist/data/\", one_hot=True)"
   ]
  },
  {
   "cell_type": "markdown",
   "metadata": {},
   "source": [
    "## Model Setting"
   ]
  },
  {
   "cell_type": "code",
   "execution_count": 2,
   "metadata": {},
   "outputs": [],
   "source": [
    "# N = width (# of nodes) of hidden layer\n",
    "n = 100\n",
    "\n",
    "# batch & epoch\n",
    "batch_size = 100\n",
    "total_batch = int(mnist.train.num_examples / batch_size)\n",
    "epoch_size = 80\n",
    "\n",
    "# activation function definition (logistic function)\n",
    "def Logis(x):\n",
    "    y = 1/(1+np.exp(-x))\n",
    "    return y"
   ]
  },
  {
   "cell_type": "markdown",
   "metadata": {},
   "source": [
    "## Weight & Bias term initialization"
   ]
  },
  {
   "cell_type": "code",
   "execution_count": 3,
   "metadata": {},
   "outputs": [],
   "source": [
    "'''weight & biased term initialization (xavier initializer)'''\n",
    "w1 = np.random.uniform(-np.sqrt(6.0/(784+n)),np.sqrt(6.0/(784+n)),(784,n))\n",
    "b1 = np.random.uniform(-np.sqrt(6.0/(784+n)), np.sqrt(6.0/(784+n)),(1,n))\n",
    "\n",
    "w2 = np.random.uniform(-np.sqrt(6.0/(n+10)),np.sqrt(6.0/(n+10)),(n,10))\n",
    "b2 = np.random.uniform(-np.sqrt(6.0/(n+10)),np.sqrt(6.0/(n+10)),(1,10))\n"
   ]
  },
  {
   "cell_type": "markdown",
   "metadata": {},
   "source": [
    "## BackPropagation "
   ]
  },
  {
   "cell_type": "code",
   "execution_count": 4,
   "metadata": {},
   "outputs": [
    {
     "name": "stdout",
     "output_type": "stream",
     "text": [
      "Epoch :  0010 cost = 0.22014\n",
      "Epoch :  0020 cost = 0.20179\n",
      "Epoch :  0030 cost = 0.19073\n",
      "Epoch :  0040 cost = 0.18457\n",
      "Epoch :  0050 cost = 0.18017\n",
      "Epoch :  0060 cost = 0.17643\n",
      "Epoch :  0070 cost = 0.17404\n",
      "Epoch :  0080 cost = 0.17202\n",
      "optimization complete\n"
     ]
    }
   ],
   "source": [
    "for epoch in range(epoch_size):\n",
    "    total_cost = 0\n",
    "    for i in range(total_batch):\n",
    "        batch_xs, batch_ys = mnist.train.next_batch(batch_size)\n",
    "        X = batch_xs\n",
    "        Y = batch_ys\n",
    "        '''forward-pass of neural network'''\n",
    "        #input activation for Single hidden layer\n",
    "        L1 = np.matmul(X,w1)+b1\n",
    "        #output activation for Single hidden layer (function : logistic function)\n",
    "        L1 = Logis(L1)\n",
    "\n",
    "        # input activation for Output layer\n",
    "        L2 = np.matmul(L1,w2)+b2\n",
    "        # output activation for Output layer (function : softmax function)\n",
    "        Y_hat = np.exp(L2)/np.exp(L2).sum(axis=1).reshape(-1,1)\n",
    "\n",
    "        '''backward-pass of neural network'''\n",
    "        #delta signal1 defined\n",
    "        delt_1 = np.dot(np.dot(Y_hat,np.ones((10,batch_size))-Y_hat.T),Y-Y_hat)\n",
    "        #gradient of w2, b2\n",
    "        w2_gradient = (-np.dot(L1.T,delt_1))/batch_size\n",
    "        b2_gradient = (-np.average(delt_1, axis=0))\n",
    "\n",
    "        #delta signal2 defined\n",
    "        delt_2 = np.dot(delt_1,w2.T)*L1*(1-L1)\n",
    "        #gradient of w1, b1\n",
    "        w1_gradient = (-np.dot(X.T,delt_2))/batch_size\n",
    "        b1_gradient = (-np.average(delt_2, axis=0))\n",
    "\n",
    "        '''weight update'''\n",
    "        learning_rate = 0.001\n",
    "        w2 -= learning_rate*w2_gradient\n",
    "        b2 -= learning_rate*b2_gradient\n",
    "        w1 -= learning_rate*w1_gradient\n",
    "        b1 -= learning_rate*b1_gradient\n",
    "\n",
    "        total_cost += np.mean(0.5*np.square(Y-Y_hat))\n",
    "\n",
    "    #print total_cost\n",
    "    total_cost = total_cost/batch_size\n",
    "    if epoch % 10 == 9:\n",
    "        print('Epoch : ', '%04d' % (epoch+1), 'cost =', '%.5f' % (total_cost))\n",
    "\n",
    "print('optimization complete')"
   ]
  },
  {
   "cell_type": "markdown",
   "metadata": {},
   "source": [
    "## Accuracy Test (Classifier)"
   ]
  },
  {
   "cell_type": "code",
   "execution_count": 5,
   "metadata": {},
   "outputs": [
    {
     "name": "stdout",
     "output_type": "stream",
     "text": [
      "accuracy is : 0.85510\n"
     ]
    }
   ],
   "source": [
    "'''classification accuracy test'''\n",
    "X_test = mnist.test.images\n",
    "Y_test = mnist.test.labels\n",
    "L1_test = np.matmul(X_test,w1)+b1\n",
    "L1_test = Logis(L1_test)\n",
    "L2_test = np.matmul(L1_test,w2)+b2\n",
    "Y_hat_test = np.exp(L2_test)/np.exp(L2_test).sum(axis=1).reshape(-1,1)\n",
    "\n",
    "is_correct = np.equal(np.argmax(Y_hat_test,1),np.argmax(Y_test,1))\n",
    "accuracy = np.sum(is_correct.astype(int))*0.0001\n",
    "\n",
    "print ('accuracy is :','%.5f' % (accuracy))"
   ]
  }
 ],
 "metadata": {
  "kernelspec": {
   "display_name": "Python 3",
   "language": "python",
   "name": "python3"
  },
  "language_info": {
   "codemirror_mode": {
    "name": "ipython",
    "version": 3
   },
   "file_extension": ".py",
   "mimetype": "text/x-python",
   "name": "python",
   "nbconvert_exporter": "python",
   "pygments_lexer": "ipython3",
   "version": "3.5.4"
  },
  "widgets": {
   "application/vnd.jupyter.widget-state+json": {
    "state": {},
    "version_major": 2,
    "version_minor": 0
   }
  }
 },
 "nbformat": 4,
 "nbformat_minor": 2
}
