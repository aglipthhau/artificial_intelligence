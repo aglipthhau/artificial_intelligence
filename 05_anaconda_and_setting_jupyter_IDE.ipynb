{
  "nbformat": 4,
  "nbformat_minor": 0,
  "metadata": {
    "colab": {
      "name": "05_anaconda_and_setting_jupyter_IDE.ipynb",
      "version": "0.3.2",
      "provenance": [],
      "include_colab_link": true
    },
    "kernelspec": {
      "name": "python3",
      "display_name": "Python 3"
    },
    "accelerator": "GPU"
  },
  "cells": [
    {
      "cell_type": "markdown",
      "metadata": {
        "id": "view-in-github",
        "colab_type": "text"
      },
      "source": [
        "<a href=\"https://colab.research.google.com/github/aglipthhau/artificial_intelligence/blob/master/05_anaconda_and_setting_jupyter_IDE.ipynb\" target=\"_parent\"><img src=\"https://colab.research.google.com/assets/colab-badge.svg\" alt=\"Open In Colab\"/></a>"
      ]
    },
    {
      "cell_type": "code",
      "metadata": {
        "id": "tWikDEAgVT5K",
        "colab_type": "code",
        "outputId": "84f32a4c-8df6-4a03-ed99-c3a67c31704d",
        "colab": {
          "base_uri": "https://localhost:8080/",
          "height": 373
        }
      },
      "source": [
        "import tensorflow as tf\n",
        "xData = [1,2,3,4,5,6,7]\n",
        "yData = [25000, 55000, 75000, 110000, 128000, 155000, 180000]\n",
        "W = tf.Variable(tf.random_uniform([1], -100, 100))\n",
        "b = tf.Variable(tf.random_uniform([1], -100, 100))\n",
        "X = tf.placeholder(tf.float32)\n",
        "Y = tf.placeholder(tf.float32)\n",
        "H = W * X + b\n",
        "cost = tf.reduce_mean(tf.square(H-Y))\n",
        "a = tf.Variable(0.01)\n",
        "optimizer = tf.train.GradientDescentOptimizer(a)\n",
        "train = optimizer.minimize(cost)\n",
        "init = tf.global_variables_initializer()\n",
        "sess = tf.Session()\n",
        "sess.run(init)\n",
        "for i in range(5001):\n",
        "    sess.run(train, feed_dict={X:xData, Y:yData})\n",
        "    if i % 500 == 0 :\n",
        "        print(i, sess.run(cost, feed_dict={X:xData, Y:yData}), sess.run(W), sess.run(b))\n",
        "print(sess.run(H, feed_dict={X:[8]}))"
      ],
      "execution_count": 0,
      "outputs": [
        {
          "output_type": "stream",
          "text": [
            "WARNING:tensorflow:From /usr/local/lib/python3.6/dist-packages/tensorflow/python/framework/op_def_library.py:263: colocate_with (from tensorflow.python.framework.ops) is deprecated and will be removed in a future version.\n",
            "Instructions for updating:\n",
            "Colocations handled automatically by placer.\n",
            "WARNING:tensorflow:From /usr/local/lib/python3.6/dist-packages/tensorflow/python/ops/math_ops.py:3066: to_int32 (from tensorflow.python.ops.math_ops) is deprecated and will be removed in a future version.\n",
            "Instructions for updating:\n",
            "Use tf.cast instead.\n",
            "0 4563553000.0 [10414.115] [2116.7861]\n",
            "500 8688206.0 [25536.447] [1955.5057]\n",
            "1000 8633837.0 [25627.352] [1505.3607]\n",
            "1500 8632680.0 [25640.596] [1439.7651]\n",
            "2000 8632651.0 [25642.53] [1430.2014]\n",
            "2500 8632655.0 [25642.805] [1428.8219]\n",
            "3000 8632657.0 [25642.844] [1428.6362]\n",
            "3500 8632656.0 [25642.848] [1428.6133]\n",
            "4000 8632656.0 [25642.848] [1428.6133]\n",
            "4500 8632656.0 [25642.848] [1428.6133]\n",
            "5000 8632656.0 [25642.848] [1428.6133]\n",
            "[206571.39]\n"
          ],
          "name": "stdout"
        }
      ]
    },
    {
      "cell_type": "code",
      "metadata": {
        "id": "G1BHngViVXWS",
        "colab_type": "code",
        "colab": {}
      },
      "source": [
        ""
      ],
      "execution_count": 0,
      "outputs": []
    }
  ]
}