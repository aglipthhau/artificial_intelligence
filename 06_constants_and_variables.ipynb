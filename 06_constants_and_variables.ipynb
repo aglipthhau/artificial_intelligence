{
  "nbformat": 4,
  "nbformat_minor": 0,
  "metadata": {
    "colab": {
      "name": "06_constants_and_variables.ipynb",
      "version": "0.3.2",
      "provenance": [],
      "include_colab_link": true
    },
    "kernelspec": {
      "name": "python3",
      "display_name": "Python 3"
    }
  },
  "cells": [
    {
      "cell_type": "markdown",
      "metadata": {
        "id": "view-in-github",
        "colab_type": "text"
      },
      "source": [
        "<a href=\"https://colab.research.google.com/github/aglipthhau/artificial_intelligence/blob/master/06_constants_and_variables.ipynb\" target=\"_parent\"><img src=\"https://colab.research.google.com/assets/colab-badge.svg\" alt=\"Open In Colab\"/></a>"
      ]
    },
    {
      "cell_type": "code",
      "metadata": {
        "id": "lFujiZb0Z4W6",
        "colab_type": "code",
        "colab": {}
      },
      "source": [
        "import tensorflow as tf"
      ],
      "execution_count": 0,
      "outputs": []
    },
    {
      "cell_type": "code",
      "metadata": {
        "id": "y5lbGX9QZ7LT",
        "colab_type": "code",
        "outputId": "6eecccaf-c30d-4a34-feb9-f6ed93d0d403",
        "colab": {
          "base_uri": "https://localhost:8080/",
          "height": 36
        }
      },
      "source": [
        "a = tf.constant(1)\n",
        "b = tf.constant(2)\n",
        "c = tf.add(a,b)                    # operation is not work until this line\n",
        "\n",
        "sess = tf.Session()\n",
        "sess.run(c)"
      ],
      "execution_count": 0,
      "outputs": [
        {
          "output_type": "execute_result",
          "data": {
            "text/plain": [
              "3"
            ]
          },
          "metadata": {
            "tags": []
          },
          "execution_count": 3
        }
      ]
    },
    {
      "cell_type": "code",
      "metadata": {
        "id": "MlrDteKYaElh",
        "colab_type": "code",
        "outputId": "7fb9b218-8407-4939-d2de-21c0fe7bbd14",
        "colab": {
          "base_uri": "https://localhost:8080/",
          "height": 36
        }
      },
      "source": [
        "print(c)               # c is tensor data type of tensor !"
      ],
      "execution_count": 0,
      "outputs": [
        {
          "output_type": "stream",
          "text": [
            "Tensor(\"Add_1:0\", shape=(), dtype=int32)\n"
          ],
          "name": "stdout"
        }
      ]
    },
    {
      "cell_type": "code",
      "metadata": {
        "id": "q9Fmfsd_aQ7E",
        "colab_type": "code",
        "outputId": "ff4dd318-6ad7-41e1-c4f5-09a8056dbb0f",
        "colab": {
          "base_uri": "https://localhost:8080/",
          "height": 36
        }
      },
      "source": [
        "a = tf.Variable(5)\n",
        "b = tf.Variable(3)\n",
        "c = tf.multiply(a,b)\n",
        "\n",
        "init = tf.global_variables_initializer()                     # in tensorflow, must initialize after declare variables\n",
        "sess = tf.Session()\n",
        "sess.run(init)\n",
        "sess.run(c)"
      ],
      "execution_count": 0,
      "outputs": [
        {
          "output_type": "execute_result",
          "data": {
            "text/plain": [
              "15"
            ]
          },
          "metadata": {
            "tags": []
          },
          "execution_count": 10
        }
      ]
    },
    {
      "cell_type": "code",
      "metadata": {
        "id": "1XS9VS18a9Jm",
        "colab_type": "code",
        "outputId": "ad6558c8-b0f0-4a18-8d58-bf5c27c4dd15",
        "colab": {
          "base_uri": "https://localhost:8080/",
          "height": 36
        }
      },
      "source": [
        "a = tf.Variable(15)\n",
        "\n",
        "# if c is worked after defining a = 15, and then what will happen? is it right that c = 15 * 3 = 45 ?\n",
        "\n",
        "sess.run(c)"
      ],
      "execution_count": 0,
      "outputs": [
        {
          "output_type": "execute_result",
          "data": {
            "text/plain": [
              "15"
            ]
          },
          "metadata": {
            "tags": []
          },
          "execution_count": 12
        }
      ]
    },
    {
      "cell_type": "code",
      "metadata": {
        "id": "s6-maDbvca_N",
        "colab_type": "code",
        "outputId": "6d6b2cd2-acdc-494c-afc5-a7e558f0340e",
        "colab": {
          "base_uri": "https://localhost:8080/",
          "height": 36
        }
      },
      "source": [
        "# after sovling above problem, you always must initialize. \n",
        "\n",
        "a = tf.Variable(15)\n",
        "c = tf.multiply(a,b)\n",
        "\n",
        "init = tf.global_variables_initializer()                     # initialization\n",
        "sess.run(init)\n",
        "sess.run(c)"
      ],
      "execution_count": 0,
      "outputs": [
        {
          "output_type": "execute_result",
          "data": {
            "text/plain": [
              "45"
            ]
          },
          "metadata": {
            "tags": []
          },
          "execution_count": 13
        }
      ]
    }
  ]
}